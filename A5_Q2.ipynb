{
 "cells": [
  {
   "cell_type": "markdown",
   "metadata": {
    "nbgrader": {
     "grade": false,
     "grade_id": "q2_prompt",
     "locked": true,
     "schema_version": 1,
     "solution": false
    }
   },
   "source": [
    "# Question 2\n",
    "\n",
    "In this question, we'll review the basics of file I/O (file input/output) and the various function calls and modes required."
   ]
  },
  {
   "cell_type": "markdown",
   "metadata": {
    "nbgrader": {
     "grade": false,
     "grade_id": "q2a_prompt",
     "locked": true,
     "schema_version": 1,
     "solution": false
    }
   },
   "source": [
    "### Part A\n",
    "\n",
    "Write a function which:\n",
    "\n",
    " - is named `read_file_contents`\n",
    " - takes a string pathname as an argument\n",
    " - returns a single string that contains all the contents of the file\n",
    " \n",
    "Don't import any additional packages.\n",
    "\n",
    "If I have a file `random_text.txt`, I'll give the full path to this file to the function: `contents = read_file_contents(\"random_text.txt\")`, and I should get back a single string `contents` that contains all the contents of the file.\n",
    "\n",
    "**NOTE:** Your function should be able to handle errors gracefully! If an error occurs when trying to read from the file, your function should return `None` (note the capitalization of the first letter)."
   ]
  },
  {
   "cell_type": "code",
   "execution_count": 116,
   "metadata": {
    "nbgrader": {
     "grade": false,
     "grade_id": "q2a",
     "locked": false,
     "schema_version": 1,
     "solution": true
    }
   },
   "outputs": [
    {
     "data": {
      "text/plain": [
       "'This is some text.\\nMore text, but on a different line!\\nInsert your favorite meme here.\\n'"
      ]
     },
     "execution_count": 116,
     "metadata": {},
     "output_type": "execute_result"
    }
   ],
   "source": [
    "def read_file_contents(path):\n",
    "    global contents\n",
    "    try:\n",
    "        contents=open(path,\"r\").read()\n",
    "    except:\n",
    "        print(\"Invalid path\")\n",
    "    return contents\n",
    "\n",
    "read_file_contents(\"file1.txt\")"
   ]
  },
  {
   "cell_type": "code",
   "execution_count": 117,
   "metadata": {
    "nbgrader": {
     "grade": true,
     "grade_id": "q2a_test1",
     "locked": true,
     "points": 5,
     "schema_version": 1,
     "solution": false
    }
   },
   "outputs": [],
   "source": [
    "truth = \"This is some text.\\nMore text, but on a different line!\\nInsert your favorite meme here.\\n\"\n",
    "pred = read_file_contents(\"file1.txt\")\n",
    "assert truth == pred"
   ]
  },
  {
   "cell_type": "code",
   "execution_count": 118,
   "metadata": {
    "nbgrader": {
     "grade": true,
     "grade_id": "q2a_test2",
     "locked": true,
     "points": 5,
     "schema_version": 1,
     "solution": false
    }
   },
   "outputs": [
    {
     "name": "stdout",
     "output_type": "stream",
     "text": [
      "Invalid path\n"
     ]
    },
    {
     "ename": "AssertionError",
     "evalue": "",
     "output_type": "error",
     "traceback": [
      "\u001b[0;31m---------------------------------------------------------------------------\u001b[0m",
      "\u001b[0;31mAssertionError\u001b[0m                            Traceback (most recent call last)",
      "\u001b[0;32m/var/folders/sw/70frdnq141z9fz5f4_9pyxy00000gn/T/ipykernel_79472/2153039831.py\u001b[0m in \u001b[0;36m<module>\u001b[0;34m\u001b[0m\n\u001b[1;32m      5\u001b[0m     \u001b[0;32massert\u001b[0m \u001b[0;32mFalse\u001b[0m\u001b[0;34m\u001b[0m\u001b[0;34m\u001b[0m\u001b[0m\n\u001b[1;32m      6\u001b[0m \u001b[0;32melse\u001b[0m\u001b[0;34m:\u001b[0m\u001b[0;34m\u001b[0m\u001b[0;34m\u001b[0m\u001b[0m\n\u001b[0;32m----> 7\u001b[0;31m     \u001b[0;32massert\u001b[0m \u001b[0mretval\u001b[0m \u001b[0;32mis\u001b[0m \u001b[0;32mNone\u001b[0m\u001b[0;34m\u001b[0m\u001b[0;34m\u001b[0m\u001b[0m\n\u001b[0m",
      "\u001b[0;31mAssertionError\u001b[0m: "
     ]
    }
   ],
   "source": [
    "retval = -1\n",
    "try:\n",
    "    retval = read_file_contents(\"nonexistent/path.txt\")\n",
    "except:\n",
    "    assert False\n",
    "else:\n",
    "    assert retval is None"
   ]
  },
  {
   "cell_type": "markdown",
   "metadata": {
    "nbgrader": {
     "grade": false,
     "grade_id": "q2b_prompt",
     "locked": true,
     "schema_version": 1,
     "solution": false
    }
   },
   "source": [
    "### Part B\n",
    "\n",
    "In this question, you'll read from one file, perform a simple computation, and write the results to a new file.\n",
    "\n",
    "Write a function which:\n",
    "\n",
    " - is named `count_lines`\n",
    " - that takes two arguments: the first is a path to an input file to read, the second is the path to an output file to write\n",
    " - returns `True` on success, `False` if something went wrong (i.e an error occurred)\n",
    " \n",
    "Your function will count the number of lines in the file at the first argument, and write this number to a file at the second argument.\n",
    "\n",
    "**NOTE:** Your function should be able to handle errors gracefully! If an error occurs when trying to read from the file or write to the output file, your function should return `False`."
   ]
  },
  {
   "cell_type": "code",
   "execution_count": 119,
   "metadata": {
    "nbgrader": {
     "grade": false,
     "grade_id": "q2b",
     "locked": false,
     "schema_version": 1,
     "solution": true
    }
   },
   "outputs": [],
   "source": [
    "def count_lines(path,output):\n",
    "    try:\n",
    "        file1=open(path,\"r\")\n",
    "        file2=open(output,\"w\")\n",
    "        count=len(file1.readlines())\n",
    "        file2.write(str(count))\n",
    "        return True\n",
    "    except:\n",
    "        return False\n",
    "        \n",
    "    \n",
    "    "
   ]
  },
  {
   "cell_type": "code",
   "execution_count": 120,
   "metadata": {
    "nbgrader": {
     "grade": true,
     "grade_id": "q2b_test1",
     "locked": true,
     "points": 5,
     "schema_version": 1,
     "solution": false
    }
   },
   "outputs": [],
   "source": [
    "import os\n",
    "if os.path.exists(\"file1_out.txt\"):\n",
    "    os.remove(\"file1_out.txt\")\n",
    "\n",
    "assert count_lines(\"file1.txt\", \"file1_out.txt\")\n",
    "assert os.path.exists(\"file1_out.txt\")\n",
    "assert int(open(\"file1_out.txt\", \"r\").read()) == 3"
   ]
  },
  {
   "cell_type": "code",
   "execution_count": 121,
   "metadata": {
    "nbgrader": {
     "grade": true,
     "grade_id": "q2b_test2",
     "locked": true,
     "points": 5,
     "schema_version": 1,
     "solution": false
    }
   },
   "outputs": [],
   "source": [
    "if os.path.exists(\"meaningless\"):\n",
    "    os.remove(\"meaningless\")\n",
    "\n",
    "r1 = None\n",
    "try:\n",
    "    r1 = count_lines(\"yet/another/nonexistent/path.txt\", \"meaningless\")\n",
    "except:\n",
    "    assert False\n",
    "else:\n",
    "    assert not r1"
   ]
  },
  {
   "cell_type": "code",
   "execution_count": 107,
   "metadata": {
    "nbgrader": {
     "grade": true,
     "grade_id": "q2b_test3",
     "locked": true,
     "points": 5,
     "schema_version": 1,
     "solution": false
    }
   },
   "outputs": [],
   "source": [
    "r2 = None\n",
    "try:\n",
    "    r2 = count_lines(\"file1.txt\", \"/this/should/throw/an/error.txt\")\n",
    "except:\n",
    "    assert False\n",
    "else:\n",
    "    assert not r2"
   ]
  },
  {
   "cell_type": "markdown",
   "metadata": {
    "nbgrader": {
     "grade": false,
     "grade_id": "q2c_prompt",
     "locked": true,
     "schema_version": 1,
     "solution": false
    }
   },
   "source": [
    "### Part C\n",
    "\n",
    "In this question, you'll write a function which\n",
    "\n",
    " - is named `acount_lines` \n",
    " - takes the same two arguments as `count_lines` in Part B\n",
    " - returns the same values as `count_lines` in Part B\n",
    " \n",
    "This function performs the same operation as before, except in the case that the output file already exists: in this case, you'll **append** the line count to the file instead of overwriting it, thus preserving any existing previous line counts.\n",
    "\n",
    "Each new appended line count should be *on its own line in the output file*. You may need to manually insert newline characters, which are a backslash followed by the letter n: **`\\n`**\n",
    "\n",
    "Your function should return `True` on success, and `False` if an error occurred.\n",
    "\n",
    "**NOTE:** Your function should be able to handle errors gracefully! If an error occurs when trying to read from the file or write to the output file, your function should return `False`."
   ]
  },
  {
   "cell_type": "code",
   "execution_count": 125,
   "metadata": {
    "nbgrader": {
     "grade": false,
     "grade_id": "q2c",
     "locked": false,
     "schema_version": 1,
     "solution": true
    }
   },
   "outputs": [],
   "source": [
    "def acount_lines(path,output):\n",
    "    try:\n",
    "        file1=open(path,\"r\")\n",
    "        file2=open(output,\"a\")\n",
    "        count=len(file1.readlines())\n",
    "        file2.write(\"\\n\"+str(count))\n",
    "        return True\n",
    "    except:\n",
    "        return False    \n",
    "    "
   ]
  },
  {
   "cell_type": "code",
   "execution_count": 126,
   "metadata": {
    "nbgrader": {
     "grade": true,
     "grade_id": "q2c_test1",
     "locked": true,
     "points": 5,
     "schema_version": 1,
     "solution": false
    }
   },
   "outputs": [],
   "source": [
    "if os.path.exists(\"out_again.txt\"):\n",
    "    os.remove(\"out_again.txt\")\n",
    "\n",
    "assert acount_lines(\"file1.txt\", \"out_again.txt\")\n",
    "assert os.path.exists(\"out_again.txt\")\n",
    "assert int(open(\"out_again.txt\", \"r\").read()) == 3"
   ]
  },
  {
   "cell_type": "code",
   "execution_count": 127,
   "metadata": {
    "nbgrader": {
     "grade": true,
     "grade_id": "q2c_test2",
     "locked": true,
     "points": 5,
     "schema_version": 1,
     "solution": false
    }
   },
   "outputs": [
    {
     "ename": "AssertionError",
     "evalue": "",
     "output_type": "error",
     "traceback": [
      "\u001b[0;31m---------------------------------------------------------------------------\u001b[0m",
      "\u001b[0;31mAssertionError\u001b[0m                            Traceback (most recent call last)",
      "\u001b[0;32m/var/folders/sw/70frdnq141z9fz5f4_9pyxy00000gn/T/ipykernel_79472/951447329.py\u001b[0m in \u001b[0;36m<module>\u001b[0;34m\u001b[0m\n\u001b[1;32m      1\u001b[0m \u001b[0;32massert\u001b[0m \u001b[0macount_lines\u001b[0m\u001b[0;34m(\u001b[0m\u001b[0;34m\"file2.txt\"\u001b[0m\u001b[0;34m,\u001b[0m \u001b[0;34m\"out_again.txt\"\u001b[0m\u001b[0;34m)\u001b[0m\u001b[0;34m\u001b[0m\u001b[0;34m\u001b[0m\u001b[0m\n\u001b[1;32m      2\u001b[0m \u001b[0;32massert\u001b[0m \u001b[0mos\u001b[0m\u001b[0;34m.\u001b[0m\u001b[0mpath\u001b[0m\u001b[0;34m.\u001b[0m\u001b[0mexists\u001b[0m\u001b[0;34m(\u001b[0m\u001b[0;34m\"out_again.txt\"\u001b[0m\u001b[0;34m)\u001b[0m\u001b[0;34m\u001b[0m\u001b[0;34m\u001b[0m\u001b[0m\n\u001b[0;32m----> 3\u001b[0;31m \u001b[0;32massert\u001b[0m \u001b[0mint\u001b[0m\u001b[0;34m(\u001b[0m\u001b[0;34m\"\"\u001b[0m\u001b[0;34m.\u001b[0m\u001b[0mjoin\u001b[0m\u001b[0;34m(\u001b[0m\u001b[0mopen\u001b[0m\u001b[0;34m(\u001b[0m\u001b[0;34m\"out_again.txt\"\u001b[0m\u001b[0;34m,\u001b[0m \u001b[0;34m\"r\"\u001b[0m\u001b[0;34m)\u001b[0m\u001b[0;34m.\u001b[0m\u001b[0mread\u001b[0m\u001b[0;34m(\u001b[0m\u001b[0;34m)\u001b[0m\u001b[0;34m.\u001b[0m\u001b[0msplit\u001b[0m\u001b[0;34m(\u001b[0m\u001b[0;34m\"\\n\"\u001b[0m\u001b[0;34m)\u001b[0m\u001b[0;34m)\u001b[0m\u001b[0;34m)\u001b[0m \u001b[0;34m==\u001b[0m \u001b[0;36m34\u001b[0m\u001b[0;34m\u001b[0m\u001b[0;34m\u001b[0m\u001b[0m\n\u001b[0m",
      "\u001b[0;31mAssertionError\u001b[0m: "
     ]
    }
   ],
   "source": [
    "assert acount_lines(\"file2.txt\", \"out_again.txt\")\n",
    "assert os.path.exists(\"out_again.txt\")\n",
    "assert int(\"\".join(open(\"out_again.txt\", \"r\").read().split(\"\\n\"))) == 34"
   ]
  },
  {
   "cell_type": "code",
   "execution_count": 128,
   "metadata": {
    "nbgrader": {
     "grade": true,
     "grade_id": "q2c_test3",
     "locked": true,
     "points": 5,
     "schema_version": 1,
     "solution": false
    }
   },
   "outputs": [],
   "source": [
    "r1 = None\n",
    "try:\n",
    "    r1 = acount_lines(\"yet/another/nonexistent/path.txt\", \"meaningless\")\n",
    "except:\n",
    "    assert False\n",
    "else:\n",
    "    assert not r1\n",
    "\n",
    "r2 = None\n",
    "try:\n",
    "    r2 = acount_lines(\"file2.txt\", \"/this/should/throw/an/error.txt\")\n",
    "except:\n",
    "    assert False\n",
    "else:\n",
    "    assert not r2"
   ]
  },
  {
   "cell_type": "code",
   "execution_count": null,
   "metadata": {},
   "outputs": [],
   "source": []
  },
  {
   "cell_type": "code",
   "execution_count": null,
   "metadata": {},
   "outputs": [],
   "source": []
  }
 ],
 "metadata": {
  "anaconda-cloud": {},
  "celltoolbar": "Create Assignment",
  "kernelspec": {
   "display_name": "Python 3 (ipykernel)",
   "language": "python",
   "name": "python3"
  },
  "language_info": {
   "codemirror_mode": {
    "name": "ipython",
    "version": 3
   },
   "file_extension": ".py",
   "mimetype": "text/x-python",
   "name": "python",
   "nbconvert_exporter": "python",
   "pygments_lexer": "ipython3",
   "version": "3.9.7"
  }
 },
 "nbformat": 4,
 "nbformat_minor": 1
}
